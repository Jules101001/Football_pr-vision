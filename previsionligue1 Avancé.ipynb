{
 "cells": [
  {
   "attachments": {},
   "cell_type": "markdown",
   "metadata": {},
   "source": [
    "Fonction à importer\n"
   ]
  },
  {
   "cell_type": "code",
   "execution_count": 818,
   "metadata": {},
   "outputs": [],
   "source": [
    "# Core libraries\n",
    "import pandas as pd\n",
    "import numpy as np\n",
    "import seaborn as sns\n",
    "import matplotlib as plt\n",
    "# Sklearn functionality\n",
    "from sklearn.preprocessing import MinMaxScaler\n",
    "from sklearn.model_selection import train_test_split\n",
    "from sklearn.tree import DecisionTreeClassifier\n",
    "from sklearn.linear_model import LogisticRegression\n",
    "from sklearn.metrics import accuracy_score\n",
    "from sklearn.tree import export_text\n",
    "from sklearn import preprocessing\n",
    "# Keras functionality\n",
    "import requests\n",
    "# Ignore warnings\n",
    "pd.options.mode.chained_assignment = None"
   ]
  },
  {
   "cell_type": "markdown",
   "metadata": {},
   "source": [
    "Récupération des données"
   ]
  },
  {
   "cell_type": "code",
   "execution_count": 819,
   "metadata": {},
   "outputs": [],
   "source": [
    "# Import data\n",
    "data_stat_equipe_2023 = pd.read_html(requests.get(\"https://fbref.com/fr/comps/13/Statistiques-Ligue-1#stats_squads_standard_for\").content)[0]\n",
    "data_stat_equipe_2022 = pd.read_html(requests.get(\"https://fbref.com/fr/comps/13/2021-2022/Stats-2021-2022-Ligue-1#results2021-2022131_overall\").content)[0]\n",
    "data_stat_equipe_2021 = pd.read_html(requests.get(\"https://fbref.com/fr/comps/13/2020-2021/Stats-2020-2021-Ligue-1#results2020-2021131_overall\").content)[0]\n",
    "data_stat_equipe_2020 = pd.read_html(requests.get(\"https://fbref.com/fr/comps/13/2019-2020/Stats-2019-2020-Ligue-1#results2019-2020131_overall\").content)[0]\n",
    "data_stat_equipe_2019 = pd.read_html(requests.get(\"https://fbref.com/fr/comps/13/2018-2019/Stats-2018-2019-Ligue-1#results2018-2019131_overall\").content)[0]\n",
    "data_matchs_ligue1_2023 = pd.read_html(requests.get(\"https://fbref.com/fr/comps/13/calendrier/Scores-et-tableaux-Ligue-1#sched_2022-2023_13_1\").content)[0]\n",
    "data_matchs_ligue1_2022 = pd.read_html(requests.get(\"https://fbref.com/fr/comps/13/2021-2022/calendrier/Calendrier-et-resultats-2021-2022-Ligue-1#sched_all\").content)[0]\n",
    "data_matchs_ligue1_2021 = pd.read_html(requests.get(\"https://fbref.com/fr/comps/13/2020-2021/calendrier/Calendrier-et-resultats-2020-2021-Ligue-1#sched_all\").content)[0]\n",
    "data_matchs_ligue1_2020 = pd.read_html(requests.get(\"https://fbref.com/fr/comps/13/2019-2020/calendrier/Calendrier-et-resultats-2019-2020-Ligue-1#sched_2019-2020_13_1\").content)[0]\n",
    "data_matchs_ligue1_2019 = pd.read_html(requests.get(\"https://fbref.com/fr/comps/13/2018-2019/calendrier/Calendrier-et-resultats-2018-2019-Ligue-1#sched_all\").content)[0]"
   ]
  },
  {
   "attachments": {},
   "cell_type": "markdown",
   "metadata": {},
   "source": [
    "Importer des données pour voir calculer le profit"
   ]
  },
  {
   "cell_type": "code",
   "execution_count": 820,
   "metadata": {},
   "outputs": [
    {
     "name": "stderr",
     "output_type": "stream",
     "text": [
      "C:\\Users\\jules\\AppData\\Local\\Temp\\ipykernel_28352\\4235135274.py:12: UserWarning: Parsing dates in DD/MM/YYYY format when dayfirst=False (the default) was specified. This may lead to inconsistently parsed dates! Specify a format to ensure consistent parsing.\n",
      "  pari[\"Date\"] =pd.to_datetime(pari[\"Date\"])\n"
     ]
    }
   ],
   "source": [
    "# Récupération des données de pari\n",
    "data_pari_2023 = pd.read_csv(\"pari_2023.csv\")\n",
    "data_pari_2022 = pd.read_csv(\"pari_2022.csv\")\n",
    "data_pari_2021 = pd.read_csv(\"pari_2021.csv\")\n",
    "data_pari_2020 = pd.read_csv(\"pari_2020.csv\")\n",
    "data_pari_2019 = pd.read_csv(\"pari_2019.csv\")\n",
    "# Concaténation des données de pari\n",
    "data_pari = pd.concat([data_pari_2019,data_pari_2020,data_pari_2021,data_pari_2022,data_pari_2023],axis=0)\n",
    "# Suppression des données inutiles\n",
    "pari= data_pari[[\"B365H\",\"B365D\",\"B365A\",\"Date\",\"HomeTeam\",\"AwayTeam\"]]\n",
    "# Conversion de la date en datetime\n",
    "pari[\"Date\"] =pd.to_datetime(pari[\"Date\"])"
   ]
  },
  {
   "attachments": {},
   "cell_type": "markdown",
   "metadata": {},
   "source": [
    "Lier les données"
   ]
  },
  {
   "cell_type": "code",
   "execution_count": 821,
   "metadata": {},
   "outputs": [],
   "source": [
    "# On prend les données de 2019 à 2023\n",
    "list_concat = [data_matchs_ligue1_2019,data_matchs_ligue1_2020, data_matchs_ligue1_2021, data_matchs_ligue1_2022, data_matchs_ligue1_2023]\n",
    "matchs_ligue1 = pd.concat(list_concat)"
   ]
  },
  {
   "attachments": {},
   "cell_type": "markdown",
   "metadata": {},
   "source": [
    "Rajouter données utile 2023"
   ]
  },
  {
   "cell_type": "code",
   "execution_count": 822,
   "metadata": {},
   "outputs": [],
   "source": [
    "# On copie les données pour ne pas modifier les données d'origine\n",
    "matchs_ligue1_2023 = data_matchs_ligue1_2023.copy()\n",
    "# On met le score sous forme de nombre\n",
    "matchs_ligue1_2023[\"but_domicile\"] = matchs_ligue1_2023[\"Score\"].str[0]\n",
    "matchs_ligue1_2023[\"but_exterieur\"] = matchs_ligue1_2023[\"Score\"].str[2]\n",
    "\n",
    "# On met les points en fonction du score\n",
    "matchs_ligue1_2023[\"Points_domicile\"] = 0\n",
    "matchs_ligue1_2023[\"Points_exterieur\"] = 0\n",
    "matchs_ligue1_2023.loc[matchs_ligue1_2023[\"but_domicile\"]>matchs_ligue1_2023[\"but_exterieur\"],\"Points_domicile\"] =3 \n",
    "matchs_ligue1_2023.loc[matchs_ligue1_2023[\"but_domicile\"]<matchs_ligue1_2023[\"but_exterieur\"],\"Points_exterieur\"] =3\n",
    "matchs_ligue1_2023.loc[matchs_ligue1_2023[\"but_domicile\"]==matchs_ligue1_2023[\"but_exterieur\"],[\"Points_domicile\",\"Points_exterieur\"]] =1\n",
    "        "
   ]
  },
  {
   "attachments": {},
   "cell_type": "markdown",
   "metadata": {},
   "source": [
    "Créer les stats équipe pour chaque journée année 2023"
   ]
  },
  {
   "cell_type": "code",
   "execution_count": 823,
   "metadata": {},
   "outputs": [],
   "source": [
    "# On crée la liste qui contiendra les statistiques de chaque équipe à chaque journée\n",
    "stat_2023=[]\n",
    "# On ajoute les équipes en début de saison\n",
    "stat_2023.append(data_stat_equipe_2023[[\"Équipe\", \"MJ\", \"BM\", \"BE\", \"Pts\"]])\n",
    "stat_2023[0][['MJ','BM', 'BE', 'Pts',\"Domicile\"]] = 0\n",
    "# On ajoute les statistiques de chaque équipe à chaque journée\n",
    "for k in range(37):\n",
    "    # On initialise la journée à l'aide de la journée précédente\n",
    "    stat_2023.append(stat_2023[k].copy())\n",
    "    # Le nombre de match joué augmente de 1\n",
    "    stat_2023[k+1].loc[:, 'MJ'] += 1\n",
    "    # On s'occupe de chaque équipe\n",
    "    for i in range(len(stat_2023[k+1])):\n",
    "        # On récupère les données du match de l'équipe i à la journée k+1\n",
    "        donnee_match = matchs_ligue1_2023.loc[(matchs_ligue1_2023[\"Sem.\"]==k+1) & ((matchs_ligue1_2023[\"Domicile\"]==stat_2023[k+1].loc[i, 'Équipe'])| (matchs_ligue1_2023[\"Extérieur\"]==stat_2023[k+1].loc[i, 'Équipe']))] \n",
    "        # On vérifie si l'équipe est à domicile ou à l'extérieur\n",
    "        if donnee_match.iloc[0,4]==stat_2023[k+1].loc[i, 'Équipe']:\n",
    "            domicile = 1\n",
    "        else:\n",
    "            domicile = 0\n",
    "        # On note si l'équipe est à domicile ou à l'extérieur au match k+1\n",
    "        stat_2023[k].loc[i,'Domicile'] = domicile\n",
    "        # On note la date du match k+1\n",
    "        stat_2023[k].loc[i,\"date\"] = donnee_match.iloc[0,2]\n",
    "        # On vérifie que le match a bien eu lieu\n",
    "        if type(donnee_match.iloc[0,14]) != str:\n",
    "            continue\n",
    "        # On convertit les données en int\n",
    "        donnee_match.iloc[0,14] = int(donnee_match.iloc[0,14])\n",
    "        donnee_match.iloc[0,15] = int(donnee_match.iloc[0,15])\n",
    "        donnee_match.iloc[0,16] = int(donnee_match.iloc[0,16])\n",
    "        donnee_match.iloc[0,17] = int(donnee_match.iloc[0,17])\n",
    "        # On met à jour les statistiques de l'équipe i à la journée k+1\n",
    "        if domicile:\n",
    "            stat_2023[k+1].loc[i,\"Pts\"] =(k*stat_2023[k+1].loc[i,\"Pts\"] + donnee_match.iloc[0,16])/ (k+1)\n",
    "            stat_2023[k+1].loc[i,\"BM\"] = (k*stat_2023[k+1].loc[i,\"BM\"] + donnee_match.iloc[0,14])/ (k+1)\n",
    "            stat_2023[k+1].loc[i,\"BE\"] = (k*stat_2023[k+1].loc[i,\"BE\"] + donnee_match.iloc[0,15])/ (k+1)\n",
    "        else:\n",
    "            stat_2023[k+1].loc[i,\"Pts\"] =(k*stat_2023[k+1].loc[i,\"Pts\"] + donnee_match.iloc[0,17])/ (k+1)\n",
    "            stat_2023[k+1].loc[i,\"BM\"] = (k*stat_2023[k+1].loc[i,\"BM\"] + donnee_match.iloc[0,15])/ (k+1)\n",
    "            stat_2023[k+1].loc[i,\"BE\"] = (k*stat_2023[k+1].loc[i,\"BE\"] + donnee_match.iloc[0,14])/ (k+1)\n",
    "    # On trie les équipes par points moyens\n",
    "    stat_2023[k+1].sort_values(by=['Pts'], ascending=False, inplace=True)\n",
    "    # On réinitialise l'index\n",
    "    stat_2023[k+1].reset_index(drop=True, inplace=True)\n",
    "# On concatène les statistiques de chaque journée    \n",
    "stats_2023 = pd.concat(stat_2023)\n"
   ]
  },
  {
   "attachments": {},
   "cell_type": "markdown",
   "metadata": {},
   "source": [
    "Pareille année 2022"
   ]
  },
  {
   "cell_type": "code",
   "execution_count": 824,
   "metadata": {},
   "outputs": [],
   "source": [
    "#Clean année 2022\n",
    "# On copie les données pour ne pas modifier les données d'origine\n",
    "matchs_ligue1_2022 = data_matchs_ligue1_2022.copy()\n",
    "# On enlève les matchs de barrages\n",
    "matchs_ligue1_2022 = matchs_ligue1_2022[matchs_ligue1_2022[\"Tour\"] != \"Barrage 1/2 Relégation/Promotion France\"]\n",
    "# On enlève la colonne Tour\n",
    "matchs_ligue1_2022.drop(columns=\"Tour\", inplace=True)\n",
    "matchs_ligue1_2022[\"but_domicile\"] = matchs_ligue1_2022[\"Score\"].str[0]\n",
    "matchs_ligue1_2022[\"but_exterieur\"] = matchs_ligue1_2022[\"Score\"].str[2]\n",
    "matchs_ligue1_2022[\"Points_domicile\"] = 0\n",
    "matchs_ligue1_2022[\"Points_exterieur\"] = 0\n",
    "matchs_ligue1_2022.loc[matchs_ligue1_2022[\"but_domicile\"]>matchs_ligue1_2022[\"but_exterieur\"],\"Points_domicile\"] =3 \n",
    "matchs_ligue1_2022.loc[matchs_ligue1_2022[\"but_domicile\"]<matchs_ligue1_2022[\"but_exterieur\"],\"Points_exterieur\"] =3\n",
    "matchs_ligue1_2022.loc[matchs_ligue1_2022[\"but_domicile\"]==matchs_ligue1_2022[\"but_exterieur\"],[\"Points_domicile\",\"Points_exterieur\"]] =1\n",
    "stat_2022=[]\n",
    "stat_2022.append(data_stat_equipe_2022[[\"Équipe\", \"MJ\", \"BM\", \"BE\", \"Pts\"]])\n",
    "stat_2022[0][['MJ','BM', 'BE', 'Pts',\"Domicile\"]] = 0\n",
    "for k in range(37):\n",
    "    stat_2022.append(stat_2022[k].copy())\n",
    "    stat_2022[k+1].loc[:, 'MJ'] += 1\n",
    "    for i in range(len(stat_2022[k+1])):\n",
    "        donnee_match = matchs_ligue1_2022.loc[(matchs_ligue1_2022[\"Sem.\"]==k+1) & ((matchs_ligue1_2022[\"Domicile\"]==stat_2022[k+1].loc[i, 'Équipe'])| (matchs_ligue1_2022[\"Extérieur\"]==stat_2022[k+1].loc[i, 'Équipe']))] \n",
    "        if donnee_match.iloc[0,4]==stat_2022[k+1].loc[i,'Équipe']:\n",
    "            domicile = 1\n",
    "        else:\n",
    "            domicile = 0\n",
    "        stat_2022[k].loc[i,'Domicile'] = domicile\n",
    "        stat_2022[k].loc[i,\"date\"] = donnee_match.iloc[0,2]\n",
    "        if type(donnee_match.iloc[0,14]) != str:\n",
    "            continue\n",
    "        donnee_match.iloc[0,14] = int(donnee_match.iloc[0,14])\n",
    "        donnee_match.iloc[0,15] = int(donnee_match.iloc[0,15])\n",
    "        donnee_match.iloc[0,16] = int(donnee_match.iloc[0,16])\n",
    "        donnee_match.iloc[0,17] = int(donnee_match.iloc[0,17])\n",
    "        if domicile:\n",
    "            stat_2022[k+1].loc[i,\"Pts\"] =(k*stat_2022[k+1].loc[i,\"Pts\"] + donnee_match.iloc[0,16])/(k+1)\n",
    "            stat_2022[k+1].loc[i,\"BM\"] = (k*stat_2022[k+1].loc[i,\"BM\"] + donnee_match.iloc[0,14])/ (k+1)\n",
    "            stat_2022[k+1].loc[i,\"BE\"] = (k*stat_2022[k+1].loc[i,\"BE\"] + donnee_match.iloc[0,15])/ (k+1)\n",
    "        else:\n",
    "            stat_2022[k+1].loc[i,\"Pts\"] =(k*stat_2022[k+1].loc[i,\"Pts\"] + donnee_match.iloc[0,17])/(k+1)\n",
    "            stat_2022[k+1].loc[i,\"BM\"] = (k*stat_2022[k+1].loc[i,\"BM\"] + donnee_match.iloc[0,15])/ (k+1)\n",
    "            stat_2022[k+1].loc[i,\"BE\"] = (k*stat_2022[k+1].loc[i,\"BE\"] + donnee_match.iloc[0,14])/ (k+1)\n",
    "    stat_2022[k+1].sort_values(by=['Pts'], ascending=False, inplace=True)\n",
    "    stat_2022[k+1].reset_index(drop=True, inplace=True)\n",
    "stats_2022 = pd.concat(stat_2022)"
   ]
  },
  {
   "attachments": {},
   "cell_type": "markdown",
   "metadata": {},
   "source": [
    "Année 2021"
   ]
  },
  {
   "cell_type": "code",
   "execution_count": 825,
   "metadata": {},
   "outputs": [],
   "source": [
    "#Clean année 2021\n",
    "# On copie les données pour ne pas modifier les données d'origine\n",
    "matchs_ligue1_2021 = data_matchs_ligue1_2021.copy()\n",
    "matchs_ligue1_2021 = matchs_ligue1_2021[matchs_ligue1_2021[\"Tour\"] != \"Barrage 1/2 Relégation/Promotion France\"]\n",
    "matchs_ligue1_2021.drop(columns=\"Tour\", inplace=True)\n",
    "matchs_ligue1_2021[\"but_domicile\"] = matchs_ligue1_2021[\"Score\"].str[0]\n",
    "matchs_ligue1_2021[\"but_exterieur\"] = matchs_ligue1_2021[\"Score\"].str[2]\n",
    "matchs_ligue1_2021[\"Points_domicile\"] = 0\n",
    "matchs_ligue1_2021[\"Points_exterieur\"] = 0\n",
    "matchs_ligue1_2021.loc[matchs_ligue1_2021[\"but_domicile\"]>matchs_ligue1_2021[\"but_exterieur\"],\"Points_domicile\"] =3 \n",
    "matchs_ligue1_2021.loc[matchs_ligue1_2021[\"but_domicile\"]<matchs_ligue1_2021[\"but_exterieur\"],\"Points_exterieur\"] =3\n",
    "matchs_ligue1_2021.loc[matchs_ligue1_2021[\"but_domicile\"]==matchs_ligue1_2021[\"but_exterieur\"],[\"Points_domicile\",\"Points_exterieur\"]] =1\n",
    "\n",
    "stat_2021=[]\n",
    "stat_2021.append(data_stat_equipe_2021[[\"Équipe\", \"MJ\", \"BM\", \"BE\", \"Pts\"]])\n",
    "stat_2021[0][['MJ','BM', 'BE', 'Pts',\"Domicile\"]] = 0\n",
    "for k in range(37):\n",
    "    stat_2021.append(stat_2021[k].copy())\n",
    "    stat_2021[k+1].loc[:, 'MJ'] += 1\n",
    "    for i in range(len(stat_2021[k+1])):\n",
    "        donnee_match = matchs_ligue1_2021.loc[(matchs_ligue1_2021[\"Sem.\"]==k+1) & ((matchs_ligue1_2021[\"Domicile\"]==stat_2021[k+1].loc[i, 'Équipe'])| (matchs_ligue1_2021[\"Extérieur\"]==stat_2021[k+1].loc[i, 'Équipe']))] \n",
    "        if donnee_match.iloc[0,4]==stat_2021[k+1].loc[i, 'Équipe']:\n",
    "            domicile = 1\n",
    "        else:\n",
    "            domicile = 0\n",
    "        stat_2021[k].loc[i,'Domicile'] = domicile\n",
    "        stat_2021[k].loc[i,\"date\"] = donnee_match.iloc[0,2]\n",
    "        if type(donnee_match.iloc[0,14]) != str:\n",
    "            continue\n",
    "        donnee_match.iloc[0,14] = int(donnee_match.iloc[0,14])\n",
    "        donnee_match.iloc[0,15] = int(donnee_match.iloc[0,15])\n",
    "        donnee_match.iloc[0,16] = int(donnee_match.iloc[0,16])\n",
    "        donnee_match.iloc[0,17] = int(donnee_match.iloc[0,17])\n",
    "        if domicile:\n",
    "            stat_2021[k+1].loc[i,\"Pts\"] =(k*stat_2021[k+1].loc[i,\"Pts\"] + donnee_match.iloc[0,16])/(k+1)\n",
    "            stat_2021[k+1].loc[i,\"BM\"] = (k*stat_2021[k+1].loc[i,\"BM\"] + donnee_match.iloc[0,14])/ (k+1)\n",
    "            stat_2021[k+1].loc[i,\"BE\"] = (k*stat_2021[k+1].loc[i,\"BE\"] + donnee_match.iloc[0,15])/ (k+1)\n",
    "        else:\n",
    "            stat_2021[k+1].loc[i,\"Pts\"] =(k*stat_2021[k+1].loc[i,\"Pts\"] + donnee_match.iloc[0,17])/(k+1)\n",
    "            stat_2021[k+1].loc[i,\"BM\"] = (k*stat_2021[k+1].loc[i,\"BM\"] + donnee_match.iloc[0,15])/ (k+1)\n",
    "            stat_2021[k+1].loc[i,\"BE\"] = (k*stat_2021[k+1].loc[i,\"BE\"] + donnee_match.iloc[0,14])/ (k+1)\n",
    "        stat_2021[k+1].sort_values(by=['Pts'], ascending=False, inplace=True)\n",
    "        stat_2021[k+1].reset_index(drop=True, inplace=True)\n",
    "stats_2021 = pd.concat(stat_2021)"
   ]
  },
  {
   "attachments": {},
   "cell_type": "markdown",
   "metadata": {},
   "source": [
    "Année 2020"
   ]
  },
  {
   "cell_type": "code",
   "execution_count": 826,
   "metadata": {},
   "outputs": [],
   "source": [
    "#Clean année 2020\n",
    "# On copie les données pour ne pas modifier les données d'origine\n",
    "matchs_ligue1_2020 = data_matchs_ligue1_2020.copy()\n",
    "matchs_ligue1_2020[\"but_domicile\"] = matchs_ligue1_2020[\"Score\"].str[0]\n",
    "matchs_ligue1_2020[\"but_exterieur\"] = matchs_ligue1_2020[\"Score\"].str[2]\n",
    "matchs_ligue1_2020[\"Points_domicile\"] = 0\n",
    "matchs_ligue1_2020[\"Points_exterieur\"] = 0\n",
    "matchs_ligue1_2020.loc[matchs_ligue1_2020[\"but_domicile\"]>matchs_ligue1_2020[\"but_exterieur\"],\"Points_domicile\"] =3 \n",
    "matchs_ligue1_2020.loc[matchs_ligue1_2020[\"but_domicile\"]<matchs_ligue1_2020[\"but_exterieur\"],\"Points_exterieur\"] =3\n",
    "matchs_ligue1_2020.loc[matchs_ligue1_2020[\"but_domicile\"]==matchs_ligue1_2020[\"but_exterieur\"],[\"Points_domicile\",\"Points_exterieur\"]] =1\n",
    "\n",
    "stat_2020=[]\n",
    "stat_2020.append(data_stat_equipe_2020[[\"Équipe\", \"MJ\", \"BM\", \"BE\", \"Pts\"]])\n",
    "stat_2020[0][['MJ','BM', 'BE', 'Pts',\"Domicile\"]] = 0\n",
    "for k in range(38):\n",
    "    stat_2020.append(stat_2020[k].copy())\n",
    "    stat_2020[k+1].loc[:, 'MJ'] += 1\n",
    "    for i in range(len(stat_2020[k+1])):\n",
    "        donnee_match = matchs_ligue1_2020.loc[(matchs_ligue1_2020[\"Sem.\"]==k+1) & ((matchs_ligue1_2020[\"Domicile\"]==stat_2020[k+1].loc[i, 'Équipe'])| (matchs_ligue1_2020[\"Extérieur\"]==stat_2020[k+1].loc[i, 'Équipe']))] \n",
    "        if donnee_match.iloc[0,4]==stat_2020[k+1].loc[i, 'Équipe']:\n",
    "            domicile = 1\n",
    "        else:\n",
    "            domicile = 0\n",
    "        stat_2020[k].loc[i,'Domicile'] = domicile\n",
    "        stat_2020[k].loc[i,\"date\"] = donnee_match.iloc[0,2]\n",
    "        if type(donnee_match.iloc[0,14]) != str:\n",
    "            continue\n",
    "        donnee_match.iloc[0,14] = int(donnee_match.iloc[0,14])\n",
    "        donnee_match.iloc[0,15] = int(donnee_match.iloc[0,15])\n",
    "        donnee_match.iloc[0,16] = int(donnee_match.iloc[0,16])\n",
    "        donnee_match.iloc[0,17] = int(donnee_match.iloc[0,17])\n",
    "        if domicile:\n",
    "            stat_2020[k+1].loc[i,\"Pts\"] =(k*stat_2020[k+1].loc[i,\"Pts\"] + donnee_match.iloc[0,16])/(k+1)\n",
    "            stat_2020[k+1].loc[i,\"BM\"] = (k*stat_2020[k+1].loc[i,\"BM\"] + donnee_match.iloc[0,14])/ (k+1)\n",
    "            stat_2020[k+1].loc[i,\"BE\"] = (k*stat_2020[k+1].loc[i,\"BE\"] + donnee_match.iloc[0,15])/ (k+1)\n",
    "        else:\n",
    "            stat_2020[k+1].loc[i,\"Pts\"] =(k*stat_2020[k+1].loc[i,\"Pts\"] + donnee_match.iloc[0,17])/(k+1)\n",
    "            stat_2020[k+1].loc[i,\"BM\"] = (k*stat_2020[k+1].loc[i,\"BM\"] + donnee_match.iloc[0,15])/ (k+1)\n",
    "            stat_2020[k+1].loc[i,\"BE\"] = (k*stat_2020[k+1].loc[i,\"BE\"] + donnee_match.iloc[0,14])/ (k+1)\n",
    "        stat_2020[k+1].sort_values(by=['Pts'], ascending=False, inplace=True)\n",
    "        stat_2020[k+1].reset_index(drop=True, inplace=True)\n",
    "stats_2020 = pd.concat(stat_2020)"
   ]
  },
  {
   "attachments": {},
   "cell_type": "markdown",
   "metadata": {},
   "source": [
    "Année 2019"
   ]
  },
  {
   "cell_type": "code",
   "execution_count": 827,
   "metadata": {},
   "outputs": [],
   "source": [
    "#Clean année 2019\n",
    "# On copie les données pour ne pas modifier les données d'origine\n",
    "matchs_ligue1_2019 = data_matchs_ligue1_2019.copy()\n",
    "matchs_ligue1_2019 = matchs_ligue1_2019[matchs_ligue1_2019[\"Tour\"] != \"Barrage 1/2 Relégation/Promotion France\"]\n",
    "matchs_ligue1_2019.drop(columns=\"Tour\", inplace=True)\n",
    "matchs_ligue1_2019[\"but_domicile\"] = matchs_ligue1_2019[\"Score\"].str[0]\n",
    "matchs_ligue1_2019[\"but_exterieur\"] = matchs_ligue1_2019[\"Score\"].str[2]\n",
    "matchs_ligue1_2019[\"Points_domicile\"] = 0\n",
    "matchs_ligue1_2019[\"Points_exterieur\"] = 0\n",
    "matchs_ligue1_2019.loc[matchs_ligue1_2019[\"but_domicile\"]>matchs_ligue1_2019[\"but_exterieur\"],\"Points_domicile\"] =3 \n",
    "matchs_ligue1_2019.loc[matchs_ligue1_2019[\"but_domicile\"]<matchs_ligue1_2019[\"but_exterieur\"],\"Points_exterieur\"] =3\n",
    "matchs_ligue1_2019.loc[matchs_ligue1_2019[\"but_domicile\"]==matchs_ligue1_2019[\"but_exterieur\"],[\"Points_domicile\",\"Points_exterieur\"]] =1\n",
    "\n",
    "stat_2019=[]\n",
    "stat_2019.append(data_stat_equipe_2019[[\"Équipe\", \"MJ\", \"BM\", \"BE\", \"Pts\"]])\n",
    "stat_2019[0][['MJ','BM', 'BE', 'Pts',\"Domicile\"]] = 0\n",
    "for k in range(38):\n",
    "    stat_2019.append(stat_2019[k].copy())\n",
    "    stat_2019[k+1].loc[:, 'MJ'] += 1\n",
    "    for i in range(len(stat_2019[k+1])):\n",
    "        donnee_match = matchs_ligue1_2019.loc[(matchs_ligue1_2019[\"Sem.\"]==k+1) & ((matchs_ligue1_2019[\"Domicile\"]==stat_2019[k+1].loc[i, 'Équipe'])| (matchs_ligue1_2019[\"Extérieur\"]==stat_2019[k+1].loc[i, 'Équipe']))] \n",
    "        if donnee_match.iloc[0,4]==stat_2019[k+1].loc[i, 'Équipe']:\n",
    "            domicile = 1\n",
    "        else:\n",
    "            domicile = 0\n",
    "        stat_2019[k].loc[i,'Domicile'] = domicile\n",
    "        stat_2019[k+1].loc[i,\"date\"] = donnee_match.iloc[0,2]\n",
    "        if type(donnee_match.iloc[0,14]) != str:\n",
    "            continue\n",
    "        donnee_match.iloc[0,14] = int(donnee_match.iloc[0,14])\n",
    "        donnee_match.iloc[0,15] = int(donnee_match.iloc[0,15])\n",
    "        donnee_match.iloc[0,16] = int(donnee_match.iloc[0,16])\n",
    "        donnee_match.iloc[0,17] = int(donnee_match.iloc[0,17])\n",
    "        if domicile:\n",
    "            stat_2019[k+1].loc[i,\"Pts\"] =(k*stat_2019[k+1].loc[i,\"Pts\"] + donnee_match.iloc[0,16])/(k+1)\n",
    "            stat_2019[k+1].loc[i,\"BM\"] = (k*stat_2019[k+1].loc[i,\"BM\"] + donnee_match.iloc[0,14])/ (k+1)\n",
    "            stat_2019[k+1].loc[i,\"BE\"] = (k*stat_2019[k+1].loc[i,\"BE\"] + donnee_match.iloc[0,15])/ (k+1)\n",
    "        else:\n",
    "            stat_2019[k+1].loc[i,\"Pts\"] =(k*stat_2019[k+1].loc[i,\"Pts\"] + donnee_match.iloc[0,17])/(k+1)\n",
    "            stat_2019[k+1].loc[i,\"BM\"] = (k*stat_2019[k+1].loc[i,\"BM\"] + donnee_match.iloc[0,15])/ (k+1)\n",
    "            stat_2019[k+1].loc[i,\"BE\"] = (k*stat_2019[k+1].loc[i,\"BE\"] + donnee_match.iloc[0,14])/ (k+1)\n",
    "        stat_2019[k+1].sort_values(by=['Pts'], ascending=False, inplace=True)\n",
    "        stat_2019[k+1].reset_index(drop=True, inplace=True)\n",
    "stats_2019 = pd.concat(stat_2019)"
   ]
  },
  {
   "attachments": {},
   "cell_type": "markdown",
   "metadata": {},
   "source": [
    "Concatener toute les données"
   ]
  },
  {
   "cell_type": "code",
   "execution_count": 828,
   "metadata": {},
   "outputs": [],
   "source": [
    "# On concatène les stats de chaque année\n",
    "stats = pd.concat([stats_2019, stats_2020, stats_2021, stats_2022,stats_2023])\n",
    "# On convertit la date en datetime\n",
    "stats[\"date\"]= pd.to_datetime(stats[\"date\"])\n",
    "stats[\"key\"] = stats[\"Équipe\"] + stats[\"date\"].astype(str)\n",
    "stats.drop_duplicates(subset=[\"key\"], inplace=True)"
   ]
  },
  {
   "attachments": {},
   "cell_type": "markdown",
   "metadata": {},
   "source": [
    "Nettoyer les données des matchs"
   ]
  },
  {
   "cell_type": "code",
   "execution_count": 829,
   "metadata": {},
   "outputs": [],
   "source": [
    "# Enlever les colonnes inutiles\n",
    "matchs_ligue1 = matchs_ligue1[matchs_ligue1[\"Tour\"] != \"Barrage 1/2 Relégation/Promotion France\"]\n",
    "matchs_trier= matchs_ligue1[[\"Date\",\"Domicile\",\"Score\",\"Extérieur\",\"Sem.\"]]\n",
    "# Enlever les lignes inutiles\n",
    "matchs_trier = matchs_trier[matchs_trier[\"Date\"].notna()]\n",
    "# Mettre les dates au bon format\n",
    "matchs_trier[\"Date\"] = pd.to_datetime(matchs_trier[\"Date\"])\n",
    "# Garder les matchs joués\n",
    "matchs_joue = matchs_trier.dropna(subset=[\"Score\"])\n",
    "# Remettre les index à 0\n",
    "matchs_joue.reset_index(drop=True, inplace=True)\n",
    "# Ajouter les colonnes but_domicile et but_exterieur\n",
    "matchs_joue[\"but_domicile\"] = matchs_joue[\"Score\"].str[0]\n",
    "matchs_joue[\"but_exterieur\"] = matchs_joue[\"Score\"].str[2]\n",
    "# garder les matchs à jouer\n",
    "matchs_a_jouer = matchs_trier[matchs_trier[\"Score\"].isna()]\n",
    "# Mettres les buts en type int\n",
    "matchs_joue[\"but_domicile\"] = matchs_joue[\"but_domicile\"].astype(int)\n",
    "matchs_joue[\"but_exterieur\"] = matchs_joue[\"but_exterieur\"].astype(int)\n",
    "\n",
    "#Ajouter les colonnes resultat_domicile et resultat_exterieur\n",
    "matchs_joue[\"resultat\"] = 0\n",
    "matchs_joue.loc[matchs_joue[\"but_domicile\"]>matchs_joue[\"but_exterieur\"],\"resultat\"] = 2\n",
    "matchs_joue.loc[matchs_joue[\"but_domicile\"] == matchs_joue[\"but_exterieur\"],\"resultat\"] = 1\n",
    "matchs_joue.loc[matchs_joue[\"but_domicile\"]<matchs_joue[\"but_exterieur\"],\"resultat\"] = 0\n",
    "# Diviser la date en jour, mois et année\n",
    "matchs_joue[\"jour\"] = matchs_joue[\"Date\"].dt.day\n",
    "matchs_joue[\"mois\"] = matchs_joue[\"Date\"].dt.month\n",
    "matchs_joue[\"annee\"] = matchs_joue[\"Date\"].dt.year\n",
    "# Diviser la date en jour, mois et année pour les matchs à jouer\n",
    "matchs_a_jouer[\"jour\"] = matchs_a_jouer[\"Date\"].dt.day\n",
    "matchs_a_jouer[\"mois\"] = matchs_a_jouer[\"Date\"].dt.month\n",
    "matchs_a_jouer[\"annee\"] = matchs_a_jouer[\"Date\"].dt.year\n",
    "# Enlever les matchs covid\n",
    "matchs_a_jouer = matchs_a_jouer.loc[matchs_a_jouer[\"annee\"] == 2023]"
   ]
  },
  {
   "attachments": {},
   "cell_type": "markdown",
   "metadata": {},
   "source": [
    "Lier les données"
   ]
  },
  {
   "cell_type": "code",
   "execution_count": 830,
   "metadata": {},
   "outputs": [],
   "source": [
    "# On ajoute les stats des équipes à chaque match\n",
    "matchs_joue[\"key1\"]= matchs_joue[\"Domicile\"] + matchs_joue[\"Date\"].astype(str)\n",
    "matchs_joue[\"key2\"]= matchs_joue[\"Extérieur\"] + matchs_joue[\"Date\"].astype(str)\n",
    "merge1 = pd.merge(matchs_joue, stats,  how='inner', left_on=[\"key1\"], right_on = [\"key\"])\n",
    "merge2 = pd.merge(merge1, stats,  how='inner', left_on=[\"key2\"], right_on = [\"key\",])\n",
    "merge2.isna().sum()\n",
    "matchs_a_jouer[\"key1\"]= matchs_a_jouer[\"Domicile\"] + matchs_a_jouer[\"Date\"].astype(str)\n",
    "matchs_a_jouer[\"key2\"]= matchs_a_jouer[\"Extérieur\"] + matchs_a_jouer[\"Date\"].astype(str)\n",
    "merge1_a_jouer = pd.merge(matchs_a_jouer, stats,  how='inner', left_on=[\"key1\"], right_on = [\"key\"])\n",
    "merge2_a_jouer = pd.merge(merge1_a_jouer, stats,  how='inner', left_on=[\"key2\"], right_on = [\"key\",])"
   ]
  },
  {
   "attachments": {},
   "cell_type": "markdown",
   "metadata": {},
   "source": [
    "Lier les données de pari"
   ]
  },
  {
   "cell_type": "code",
   "execution_count": 831,
   "metadata": {},
   "outputs": [
    {
     "data": {
      "text/plain": [
       "Date             0.000000\n",
       "Domicile_x       0.000000\n",
       "Score            0.000000\n",
       "Extérieur        0.000000\n",
       "Sem.             0.000000\n",
       "but_domicile     0.000000\n",
       "but_exterieur    0.000000\n",
       "resultat         0.000000\n",
       "jour             0.000000\n",
       "mois             0.000000\n",
       "annee            0.000000\n",
       "key1             0.000000\n",
       "key2             0.000000\n",
       "Équipe_x         0.000000\n",
       "MJ_x             0.000000\n",
       "BM_x             0.000000\n",
       "BE_x             0.000000\n",
       "Pts_x            0.000000\n",
       "Domicile_y       0.000000\n",
       "date_x           0.000000\n",
       "key_x            0.000000\n",
       "Équipe_y         0.000000\n",
       "MJ_y             0.000000\n",
       "BM_y             0.000000\n",
       "BE_y             0.000000\n",
       "Pts_y            0.000000\n",
       "Domicile         0.000000\n",
       "date_y           0.000000\n",
       "key_y            0.000000\n",
       "B365H            0.001376\n",
       "B365D            0.001376\n",
       "B365A            0.001376\n",
       "HomeTeam         0.000000\n",
       "AwayTeam         0.000000\n",
       "key              0.000000\n",
       "dtype: float64"
      ]
     },
     "execution_count": 831,
     "metadata": {},
     "output_type": "execute_result"
    }
   ],
   "source": [
    "pari[\"key\"] = pari[\"HomeTeam\"] + pari[\"Date\"].astype(str)\n",
    "merge3 = pd.merge(merge2, pari,  how='inner', left_on=[\"Domicile_x\",\"Date\"], right_on = [\"HomeTeam\",\"Date\"])\n",
    "merge3.isna().mean()"
   ]
  },
  {
   "attachments": {},
   "cell_type": "markdown",
   "metadata": {},
   "source": [
    "Trie des données utiles"
   ]
  },
  {
   "cell_type": "code",
   "execution_count": 832,
   "metadata": {},
   "outputs": [],
   "source": [
    "# On enlève les colonnes inutiles\n",
    "merge3 = merge3[['Sem.', 'but_domicile',\"but_exterieur\",\"jour\",\"mois\",\"annee\",\"Pts_x\",\"BM_x\",\"BE_x\",\"Pts_y\",\"BM_y\",\"BE_y\",\"resultat\",\"B365H\",\"B365D\",\"B365A\"]]\n",
    "matchs_joue_dom_ext = merge3.rename(columns={\"Pts_x\": \"Pts_dom\", \"BM_x\": \"BM_dom\", \"BE_x\": \"BE_dom\",\"Pts_y\": \"Pts_ext\", \"BM_y\": \"BM_ext\", \"BE_y\": \"BE_ext\"})\n",
    "merge2_a_jouer = merge2_a_jouer[['Sem.',\"mois\",\"annee\",\"Pts_x\",\"BM_x\",\"BE_x\",\"Pts_y\",\"BM_y\",\"BE_y\",\"Domicile_x\",\"Extérieur\"]]\n",
    "matchs_a_jouer_dom_ext = merge2_a_jouer.rename(columns={\"Pts_x\": \"Pts_dom\", \"BM_x\": \"BM_dom\", \"BE_x\": \"BE_dom\",\"Pts_y\": \"Pts_ext\", \"BM_y\": \"BM_ext\", \"BE_y\": \"BE_ext\",\"Domicile_x\":\"Domicile\"})"
   ]
  },
  {
   "attachments": {},
   "cell_type": "markdown",
   "metadata": {},
   "source": [
    "Créer les données de test et d'entrainement"
   ]
  },
  {
   "attachments": {},
   "cell_type": "markdown",
   "metadata": {},
   "source": [
    "On sépare les données pour créer les modèles"
   ]
  },
  {
   "cell_type": "code",
   "execution_count": 833,
   "metadata": {},
   "outputs": [],
   "source": [
    "# On sépare les données en train et test\n",
    "X = matchs_joue_dom_ext[['Sem.',\"Pts_dom\",\"BM_dom\",\"BE_dom\",\"Pts_ext\",\"BM_ext\",\"BE_ext\",\"mois\",\"annee\"]]\n",
    "y = matchs_joue_dom_ext[['resultat',\"B365H\",\"B365D\",\"B365A\"]]\n",
    "X_train, X_test, y_train, y_test = train_test_split(X, y, test_size=0.3, random_state=42)"
   ]
  },
  {
   "attachments": {},
   "cell_type": "markdown",
   "metadata": {},
   "source": [
    "Création du modèle décision tree"
   ]
  },
  {
   "cell_type": "code",
   "execution_count": 834,
   "metadata": {},
   "outputs": [
    {
     "name": "stdout",
     "output_type": "stream",
     "text": [
      "prediction avec les training data: 0.9960629921259843\n",
      "prediction avec les test data: 0.4292237442922374\n"
     ]
    }
   ],
   "source": [
    "# Build a logistic regression model\n",
    "mode_dt = DecisionTreeClassifier()\n",
    "mode_dt.fit(X_train,y_train[\"resultat\"])\n",
    "# Afficher l'arbre de décision\n",
    "#print(\"décision_tree pour écart de but \\n\",export_text(mode1_dt, feature_names=list(X_train)))\n",
    "# Check the model performance with the training data\n",
    "predictions_dt_train = mode_dt.predict(X_train)\n",
    "print(\"prediction avec les training data:\",accuracy_score(y_train[\"resultat\"], predictions_dt_train))\n",
    "# Check the model performance with the test data\n",
    "predictions_dt_test = mode_dt.predict(X_test)\n",
    "print(\"prediction avec les test data:\",accuracy_score(y_test[\"resultat\"], predictions_dt_test))"
   ]
  },
  {
   "cell_type": "code",
   "execution_count": 840,
   "metadata": {},
   "outputs": [
    {
     "name": "stdout",
     "output_type": "stream",
     "text": [
      "9.789954337899555\n"
     ]
    }
   ],
   "source": [
    "somme_bet = 0\n",
    "for i in range(len(y_test)):\n",
    "    if y_test.iloc[i,1] == 0:\n",
    "        compteur_na += 1\n",
    "    else:\n",
    "        if y_test.iloc[i,0] == predictions_dt_test[i]:\n",
    "            if y_test.iloc[i,0] == 2:\n",
    "                somme_bet += y_test.iloc[i,1]\n",
    "            elif y_test.iloc[i,0] == 1:\n",
    "                somme_bet += y_test.iloc[i,2]\n",
    "            elif y_test.iloc[i,0] == 0:\n",
    "                somme_bet += y_test.iloc[i,3]\n",
    "somme_bet = ((somme_bet-len(y_test))/(len(y_test)))*100\n",
    "print(somme_bet)"
   ]
  },
  {
   "attachments": {},
   "cell_type": "markdown",
   "metadata": {},
   "source": [
    "Prévision des résultats decision tree"
   ]
  },
  {
   "cell_type": "code",
   "execution_count": 836,
   "metadata": {},
   "outputs": [
    {
     "data": {
      "text/html": [
       "<div>\n",
       "<style scoped>\n",
       "    .dataframe tbody tr th:only-of-type {\n",
       "        vertical-align: middle;\n",
       "    }\n",
       "\n",
       "    .dataframe tbody tr th {\n",
       "        vertical-align: top;\n",
       "    }\n",
       "\n",
       "    .dataframe thead th {\n",
       "        text-align: right;\n",
       "    }\n",
       "</style>\n",
       "<table border=\"1\" class=\"dataframe\">\n",
       "  <thead>\n",
       "    <tr style=\"text-align: right;\">\n",
       "      <th></th>\n",
       "      <th>Domicile</th>\n",
       "      <th>Extérieur</th>\n",
       "      <th>resultat</th>\n",
       "    </tr>\n",
       "  </thead>\n",
       "  <tbody>\n",
       "    <tr>\n",
       "      <th>0</th>\n",
       "      <td>Lille</td>\n",
       "      <td>Lyon</td>\n",
       "      <td>2</td>\n",
       "    </tr>\n",
       "    <tr>\n",
       "      <th>1</th>\n",
       "      <td>Auxerre</td>\n",
       "      <td>Rennes</td>\n",
       "      <td>0</td>\n",
       "    </tr>\n",
       "    <tr>\n",
       "      <th>2</th>\n",
       "      <td>Brest</td>\n",
       "      <td>Paris S-G</td>\n",
       "      <td>0</td>\n",
       "    </tr>\n",
       "    <tr>\n",
       "      <th>3</th>\n",
       "      <td>Clermont Foot</td>\n",
       "      <td>Lens</td>\n",
       "      <td>0</td>\n",
       "    </tr>\n",
       "    <tr>\n",
       "      <th>4</th>\n",
       "      <td>Lorient</td>\n",
       "      <td>Troyes</td>\n",
       "      <td>0</td>\n",
       "    </tr>\n",
       "    <tr>\n",
       "      <th>5</th>\n",
       "      <td>Ajaccio</td>\n",
       "      <td>Montpellier</td>\n",
       "      <td>2</td>\n",
       "    </tr>\n",
       "    <tr>\n",
       "      <th>6</th>\n",
       "      <td>Nantes</td>\n",
       "      <td>Nice</td>\n",
       "      <td>2</td>\n",
       "    </tr>\n",
       "    <tr>\n",
       "      <th>7</th>\n",
       "      <td>Angers</td>\n",
       "      <td>Toulouse</td>\n",
       "      <td>2</td>\n",
       "    </tr>\n",
       "    <tr>\n",
       "      <th>8</th>\n",
       "      <td>Monaco</td>\n",
       "      <td>Reims</td>\n",
       "      <td>1</td>\n",
       "    </tr>\n",
       "    <tr>\n",
       "      <th>9</th>\n",
       "      <td>Marseille</td>\n",
       "      <td>Strasbourg</td>\n",
       "      <td>1</td>\n",
       "    </tr>\n",
       "  </tbody>\n",
       "</table>\n",
       "</div>"
      ],
      "text/plain": [
       "        Domicile    Extérieur  resultat\n",
       "0          Lille         Lyon         2\n",
       "1        Auxerre       Rennes         0\n",
       "2          Brest    Paris S-G         0\n",
       "3  Clermont Foot         Lens         0\n",
       "4        Lorient       Troyes         0\n",
       "5        Ajaccio  Montpellier         2\n",
       "6         Nantes         Nice         2\n",
       "7         Angers     Toulouse         2\n",
       "8         Monaco        Reims         1\n",
       "9      Marseille   Strasbourg         1"
      ]
     },
     "execution_count": 836,
     "metadata": {},
     "output_type": "execute_result"
    }
   ],
   "source": [
    "matchs_a_jouer_dom_ext[\"resultat\"] = mode_dt.predict(matchs_a_jouer_dom_ext[['Sem.',\"Pts_dom\",\"BM_dom\",\"BE_dom\",\"Pts_ext\",\"BM_ext\",\"BE_ext\",\"mois\",\"annee\"]])\n",
    "resultat_mode_dt = matchs_a_jouer_dom_ext[['Domicile',\"Extérieur\",\"resultat\"]]\n",
    "resultat_mode_dt.head(10)"
   ]
  },
  {
   "attachments": {},
   "cell_type": "markdown",
   "metadata": {},
   "source": [
    "Modele logistic regression nombre de but"
   ]
  },
  {
   "cell_type": "code",
   "execution_count": 837,
   "metadata": {},
   "outputs": [
    {
     "name": "stdout",
     "output_type": "stream",
     "text": [
      "prediction avec les training data: 0.49015748031496065\n",
      "prediction avec les test data: 0.4794520547945205\n"
     ]
    }
   ],
   "source": [
    "# Buill a logistic regression model for the ecart de but\n",
    "mode_lr = LogisticRegression(solver = 'liblinear', max_iter=1000, multi_class='ovr')\n",
    "mode_lr.fit(X_train, y_train[\"resultat\"])\n",
    "# Check the model performance with the training data\n",
    "predictions_lr_train = mode_lr.predict(X_train)\n",
    "print(\"prediction avec les training data:\",accuracy_score(y_train[\"resultat\"], predictions_lr_train))\n",
    "# Check the model performance with the test data\n",
    "predictions_lr_test = mode_lr.predict(X_test)\n",
    "print(\"prediction avec les test data:\",accuracy_score(y_test[\"resultat\"], predictions_lr_test))"
   ]
  },
  {
   "cell_type": "code",
   "execution_count": 849,
   "metadata": {},
   "outputs": [
    {
     "name": "stdout",
     "output_type": "stream",
     "text": [
      "1.538812785388156\n"
     ]
    }
   ],
   "source": [
    "somme_bet = 0\n",
    "for i in range(len(y_test)):\n",
    "    if y_test.iloc[i,0] == predictions_lr_test[i]:\n",
    "        if y_test.iloc[i,0] == 2:\n",
    "            somme_bet += y_test.iloc[i,1]\n",
    "        elif y_test.iloc[i,0] == 1:\n",
    "            somme_bet += y_test.iloc[i,2]\n",
    "        elif y_test.iloc[i,0] == 0:\n",
    "            somme_bet += y_test.iloc[i,3]\n",
    "somme_bet = ((somme_bet-len(y_test))/len(y_test))*100\n",
    "print(somme_bet)"
   ]
  },
  {
   "attachments": {},
   "cell_type": "markdown",
   "metadata": {},
   "source": [
    "Prévision des résultat logistic regression\n"
   ]
  },
  {
   "cell_type": "code",
   "execution_count": 839,
   "metadata": {},
   "outputs": [
    {
     "data": {
      "text/html": [
       "<div>\n",
       "<style scoped>\n",
       "    .dataframe tbody tr th:only-of-type {\n",
       "        vertical-align: middle;\n",
       "    }\n",
       "\n",
       "    .dataframe tbody tr th {\n",
       "        vertical-align: top;\n",
       "    }\n",
       "\n",
       "    .dataframe thead th {\n",
       "        text-align: right;\n",
       "    }\n",
       "</style>\n",
       "<table border=\"1\" class=\"dataframe\">\n",
       "  <thead>\n",
       "    <tr style=\"text-align: right;\">\n",
       "      <th></th>\n",
       "      <th>Domicile</th>\n",
       "      <th>Extérieur</th>\n",
       "      <th>resultat</th>\n",
       "    </tr>\n",
       "  </thead>\n",
       "  <tbody>\n",
       "    <tr>\n",
       "      <th>0</th>\n",
       "      <td>Lille</td>\n",
       "      <td>Lyon</td>\n",
       "      <td>2</td>\n",
       "    </tr>\n",
       "    <tr>\n",
       "      <th>1</th>\n",
       "      <td>Auxerre</td>\n",
       "      <td>Rennes</td>\n",
       "      <td>0</td>\n",
       "    </tr>\n",
       "    <tr>\n",
       "      <th>2</th>\n",
       "      <td>Brest</td>\n",
       "      <td>Paris S-G</td>\n",
       "      <td>0</td>\n",
       "    </tr>\n",
       "    <tr>\n",
       "      <th>3</th>\n",
       "      <td>Clermont Foot</td>\n",
       "      <td>Lens</td>\n",
       "      <td>0</td>\n",
       "    </tr>\n",
       "    <tr>\n",
       "      <th>4</th>\n",
       "      <td>Lorient</td>\n",
       "      <td>Troyes</td>\n",
       "      <td>2</td>\n",
       "    </tr>\n",
       "    <tr>\n",
       "      <th>5</th>\n",
       "      <td>Ajaccio</td>\n",
       "      <td>Montpellier</td>\n",
       "      <td>0</td>\n",
       "    </tr>\n",
       "    <tr>\n",
       "      <th>6</th>\n",
       "      <td>Nantes</td>\n",
       "      <td>Nice</td>\n",
       "      <td>0</td>\n",
       "    </tr>\n",
       "    <tr>\n",
       "      <th>7</th>\n",
       "      <td>Angers</td>\n",
       "      <td>Toulouse</td>\n",
       "      <td>0</td>\n",
       "    </tr>\n",
       "    <tr>\n",
       "      <th>8</th>\n",
       "      <td>Monaco</td>\n",
       "      <td>Reims</td>\n",
       "      <td>2</td>\n",
       "    </tr>\n",
       "    <tr>\n",
       "      <th>9</th>\n",
       "      <td>Marseille</td>\n",
       "      <td>Strasbourg</td>\n",
       "      <td>2</td>\n",
       "    </tr>\n",
       "  </tbody>\n",
       "</table>\n",
       "</div>"
      ],
      "text/plain": [
       "        Domicile    Extérieur  resultat\n",
       "0          Lille         Lyon         2\n",
       "1        Auxerre       Rennes         0\n",
       "2          Brest    Paris S-G         0\n",
       "3  Clermont Foot         Lens         0\n",
       "4        Lorient       Troyes         2\n",
       "5        Ajaccio  Montpellier         0\n",
       "6         Nantes         Nice         0\n",
       "7         Angers     Toulouse         0\n",
       "8         Monaco        Reims         2\n",
       "9      Marseille   Strasbourg         2"
      ]
     },
     "execution_count": 839,
     "metadata": {},
     "output_type": "execute_result"
    }
   ],
   "source": [
    "matchs_a_jouer_dom_ext[\"resultat\"] = mode_lr.predict(matchs_a_jouer_dom_ext[['Sem.',\"Pts_dom\",\"BM_dom\",\"BE_dom\",\"Pts_ext\",\"BM_ext\",\"BE_ext\",\"mois\",\"annee\"]])\n",
    "resultat_mode_lr = matchs_a_jouer_dom_ext[['Domicile',\"Extérieur\",\"resultat\"]]\n",
    "resultat_mode_lr.head(10)"
   ]
  }
 ],
 "metadata": {
  "kernelspec": {
   "display_name": "myenv",
   "language": "python",
   "name": "python3"
  },
  "language_info": {
   "codemirror_mode": {
    "name": "ipython",
    "version": 3
   },
   "file_extension": ".py",
   "mimetype": "text/x-python",
   "name": "python",
   "nbconvert_exporter": "python",
   "pygments_lexer": "ipython3",
   "version": "3.10.9"
  },
  "orig_nbformat": 4
 },
 "nbformat": 4,
 "nbformat_minor": 2
}
