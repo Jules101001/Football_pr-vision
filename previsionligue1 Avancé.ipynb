{
 "cells": [
  {
   "attachments": {},
   "cell_type": "markdown",
   "metadata": {},
   "source": [
    "Fonction à importer\n"
   ]
  },
  {
   "cell_type": "code",
   "execution_count": 552,
   "metadata": {},
   "outputs": [],
   "source": [
    "# Core libraries\n",
    "import pandas as pd\n",
    "import numpy as np\n",
    "import seaborn as sns\n",
    "import matplotlib as plt\n",
    "# Sklearn functionality\n",
    "from sklearn.preprocessing import MinMaxScaler\n",
    "from sklearn.model_selection import train_test_split\n",
    "from sklearn.tree import DecisionTreeClassifier\n",
    "from sklearn.linear_model import LogisticRegression\n",
    "from sklearn.metrics import accuracy_score\n",
    "from sklearn.tree import export_text\n",
    "from sklearn import preprocessing\n",
    "# Keras functionality\n",
    "import requests\n",
    "# Ignore warnings\n",
    "pd.options.mode.chained_assignment = None"
   ]
  },
  {
   "cell_type": "markdown",
   "metadata": {},
   "source": [
    "Récupération des données"
   ]
  },
  {
   "cell_type": "code",
   "execution_count": 553,
   "metadata": {},
   "outputs": [],
   "source": [
    "# Import data\n",
    "data_stat_equipe_2023 = pd.read_html(requests.get(\"https://fbref.com/fr/comps/13/Statistiques-Ligue-1#stats_squads_standard_for\").content)[0]\n",
    "data_stat_equipe_2022 = pd.read_html(requests.get(\"https://fbref.com/fr/comps/13/2021-2022/Stats-2021-2022-Ligue-1#results2021-2022131_overall\").content)[0]\n",
    "data_stat_equipe_2021 = pd.read_html(requests.get(\"https://fbref.com/fr/comps/13/2020-2021/Stats-2020-2021-Ligue-1#results2020-2021131_overall\").content)[0]\n",
    "data_stat_equipe_2020 = pd.read_html(requests.get(\"https://fbref.com/fr/comps/13/2019-2020/Stats-2019-2020-Ligue-1#results2019-2020131_overall\").content)[0]\n",
    "data_stat_equipe_2019 = pd.read_html(requests.get(\"https://fbref.com/fr/comps/13/2018-2019/Stats-2018-2019-Ligue-1#results2018-2019131_overall\").content)[0]\n",
    "data_matchs_ligue1_2023 = pd.read_html(requests.get(\"https://fbref.com/fr/comps/13/calendrier/Scores-et-tableaux-Ligue-1#sched_2022-2023_13_1\").content)[0]\n",
    "data_matchs_ligue1_2022 = pd.read_html(requests.get(\"https://fbref.com/fr/comps/13/2021-2022/calendrier/Calendrier-et-resultats-2021-2022-Ligue-1#sched_all\").content)[0]\n",
    "data_matchs_ligue1_2021 = pd.read_html(requests.get(\"https://fbref.com/fr/comps/13/2020-2021/calendrier/Calendrier-et-resultats-2020-2021-Ligue-1#sched_all\").content)[0]\n",
    "data_matchs_ligue1_2020 = pd.read_html(requests.get(\"https://fbref.com/fr/comps/13/2019-2020/calendrier/Calendrier-et-resultats-2019-2020-Ligue-1#sched_2019-2020_13_1\").content)[0]\n",
    "data_matchs_ligue1_2019 = pd.read_html(requests.get(\"https://fbref.com/fr/comps/13/2018-2019/calendrier/Calendrier-et-resultats-2018-2019-Ligue-1#sched_all\").content)[0]"
   ]
  },
  {
   "attachments": {},
   "cell_type": "markdown",
   "metadata": {},
   "source": [
    "Importer des données pour voir calculer le profit"
   ]
  },
  {
   "cell_type": "code",
   "execution_count": 554,
   "metadata": {},
   "outputs": [
    {
     "name": "stdout",
     "output_type": "stream",
     "text": [
      "<class 'pandas.core.frame.DataFrame'>\n",
      "RangeIndex: 260 entries, 0 to 259\n",
      "Data columns (total 6 columns):\n",
      " #   Column    Non-Null Count  Dtype         \n",
      "---  ------    --------------  -----         \n",
      " 0   B365H     260 non-null    float64       \n",
      " 1   B365D     260 non-null    float64       \n",
      " 2   B365A     260 non-null    float64       \n",
      " 3   Date      260 non-null    datetime64[ns]\n",
      " 4   HomeTeam  260 non-null    object        \n",
      " 5   AwayTeam  260 non-null    object        \n",
      "dtypes: datetime64[ns](1), float64(3), object(2)\n",
      "memory usage: 12.3+ KB\n"
     ]
    },
    {
     "name": "stderr",
     "output_type": "stream",
     "text": [
      "C:\\Users\\jules\\AppData\\Local\\Temp\\ipykernel_28352\\102227178.py:3: UserWarning: Parsing dates in DD/MM/YYYY format when dayfirst=False (the default) was specified. This may lead to inconsistently parsed dates! Specify a format to ensure consistent parsing.\n",
      "  df[\"Date\"] =pd.to_datetime(df[\"Date\"])\n"
     ]
    }
   ],
   "source": [
    "df = pd.read_csv(\"F1.csv\")\n",
    "df =df[[\"B365H\",\"B365D\",\"B365A\",\"Date\",\"HomeTeam\",\"AwayTeam\"]]\n",
    "df[\"Date\"] =pd.to_datetime(df[\"Date\"])\n",
    "df.info()"
   ]
  },
  {
   "attachments": {},
   "cell_type": "markdown",
   "metadata": {},
   "source": [
    "Lier les données"
   ]
  },
  {
   "cell_type": "code",
   "execution_count": 555,
   "metadata": {},
   "outputs": [],
   "source": [
    "# On prend les données de 2019 à 2023\n",
    "list_concat = [data_matchs_ligue1_2019,data_matchs_ligue1_2020, data_matchs_ligue1_2021, data_matchs_ligue1_2022, data_matchs_ligue1_2023]\n",
    "matchs_ligue1 = pd.concat(list_concat)"
   ]
  },
  {
   "attachments": {},
   "cell_type": "markdown",
   "metadata": {},
   "source": [
    "Rajouter données utile 2023"
   ]
  },
  {
   "cell_type": "code",
   "execution_count": 556,
   "metadata": {},
   "outputs": [],
   "source": [
    "# On copie les données pour ne pas modifier les données d'origine\n",
    "matchs_ligue1_2023 = data_matchs_ligue1_2023.copy()\n",
    "# On met le score sous forme de nombre\n",
    "matchs_ligue1_2023[\"but_domicile\"] = matchs_ligue1_2023[\"Score\"].str[0]\n",
    "matchs_ligue1_2023[\"but_exterieur\"] = matchs_ligue1_2023[\"Score\"].str[2]\n",
    "\n",
    "# On met les points en fonction du score\n",
    "matchs_ligue1_2023[\"Points_domicile\"] = 0\n",
    "matchs_ligue1_2023[\"Points_exterieur\"] = 0\n",
    "matchs_ligue1_2023.loc[matchs_ligue1_2023[\"but_domicile\"]>matchs_ligue1_2023[\"but_exterieur\"],\"Points_domicile\"] =3 \n",
    "matchs_ligue1_2023.loc[matchs_ligue1_2023[\"but_domicile\"]<matchs_ligue1_2023[\"but_exterieur\"],\"Points_exterieur\"] =3\n",
    "matchs_ligue1_2023.loc[matchs_ligue1_2023[\"but_domicile\"]==matchs_ligue1_2023[\"but_exterieur\"],[\"Points_domicile\",\"Points_exterieur\"]] =1\n",
    "        "
   ]
  },
  {
   "attachments": {},
   "cell_type": "markdown",
   "metadata": {},
   "source": [
    "Créer les stats équipe pour chaque journée année 2023"
   ]
  },
  {
   "cell_type": "code",
   "execution_count": 557,
   "metadata": {},
   "outputs": [],
   "source": [
    "# On crée la liste qui contiendra les statistiques de chaque équipe à chaque journée\n",
    "stat_2023=[]\n",
    "# On ajoute les équipes en début de saison\n",
    "stat_2023.append(data_stat_equipe_2023[[\"Équipe\", \"MJ\", \"BM\", \"BE\", \"Pts\"]])\n",
    "stat_2023[0][['MJ','BM', 'BE', 'Pts',\"Domicile\"]] = 0\n",
    "# On ajoute les statistiques de chaque équipe à chaque journée\n",
    "for k in range(37):\n",
    "    # On initialise la journée à l'aide de la journée précédente\n",
    "    stat_2023.append(stat_2023[k].copy())\n",
    "    # Le nombre de match joué augmente de 1\n",
    "    stat_2023[k+1].loc[:, 'MJ'] += 1\n",
    "    # On s'occupe de chaque équipe\n",
    "    for i in range(len(stat_2023[k+1])):\n",
    "        # On récupère les données du match de l'équipe i à la journée k+1\n",
    "        donnee_match = matchs_ligue1_2023.loc[(matchs_ligue1_2023[\"Sem.\"]==k+1) & ((matchs_ligue1_2023[\"Domicile\"]==stat_2023[k+1].loc[i, 'Équipe'])| (matchs_ligue1_2023[\"Extérieur\"]==stat_2023[k+1].loc[i, 'Équipe']))] \n",
    "        # On vérifie si l'équipe est à domicile ou à l'extérieur\n",
    "        if donnee_match.iloc[0,4]==stat_2023[k+1].loc[i, 'Équipe']:\n",
    "            domicile = 1\n",
    "        else:\n",
    "            domicile = 0\n",
    "        # On note si l'équipe est à domicile ou à l'extérieur au match k+1\n",
    "        stat_2023[k].loc[i,'Domicile'] = domicile\n",
    "        # On note la date du match k+1\n",
    "        stat_2023[k].loc[i,\"date\"] = donnee_match.iloc[0,2]\n",
    "        # On vérifie que le match a bien eu lieu\n",
    "        if type(donnee_match.iloc[0,14]) != str:\n",
    "            continue\n",
    "        # On convertit les données en int\n",
    "        donnee_match.iloc[0,14] = int(donnee_match.iloc[0,14])\n",
    "        donnee_match.iloc[0,15] = int(donnee_match.iloc[0,15])\n",
    "        donnee_match.iloc[0,16] = int(donnee_match.iloc[0,16])\n",
    "        donnee_match.iloc[0,17] = int(donnee_match.iloc[0,17])\n",
    "        # On met à jour les statistiques de l'équipe i à la journée k+1\n",
    "        if domicile:\n",
    "            stat_2023[k+1].loc[i,\"Pts\"] =(k*stat_2023[k+1].loc[i,\"Pts\"] + donnee_match.iloc[0,16])/ (k+1)\n",
    "            stat_2023[k+1].loc[i,\"BM\"] = (k*stat_2023[k+1].loc[i,\"BM\"] + donnee_match.iloc[0,14])/ (k+1)\n",
    "            stat_2023[k+1].loc[i,\"BE\"] = (k*stat_2023[k+1].loc[i,\"BE\"] + donnee_match.iloc[0,15])/ (k+1)\n",
    "        else:\n",
    "            stat_2023[k+1].loc[i,\"Pts\"] =(k*stat_2023[k+1].loc[i,\"Pts\"] + donnee_match.iloc[0,17])/ (k+1)\n",
    "            stat_2023[k+1].loc[i,\"BM\"] = (k*stat_2023[k+1].loc[i,\"BM\"] + donnee_match.iloc[0,15])/ (k+1)\n",
    "            stat_2023[k+1].loc[i,\"BE\"] = (k*stat_2023[k+1].loc[i,\"BE\"] + donnee_match.iloc[0,14])/ (k+1)\n",
    "    # On trie les équipes par points moyens\n",
    "    stat_2023[k+1].sort_values(by=['Pts'], ascending=False, inplace=True)\n",
    "    # On réinitialise l'index\n",
    "    stat_2023[k+1].reset_index(drop=True, inplace=True)\n",
    "# On concatène les statistiques de chaque journée    \n",
    "stats_2023 = pd.concat(stat_2023)\n"
   ]
  },
  {
   "attachments": {},
   "cell_type": "markdown",
   "metadata": {},
   "source": [
    "Pareille année 2022"
   ]
  },
  {
   "cell_type": "code",
   "execution_count": 573,
   "metadata": {},
   "outputs": [],
   "source": [
    "#Clean année 2022\n",
    "# On copie les données pour ne pas modifier les données d'origine\n",
    "matchs_ligue1_2022 = data_matchs_ligue1_2022.copy()\n",
    "# On enlève les matchs de barrages\n",
    "matchs_ligue1_2022 = matchs_ligue1_2022[matchs_ligue1_2022[\"Tour\"] != \"Barrage 1/2 Relégation/Promotion France\"]\n",
    "# On enlève la colonne Tour\n",
    "matchs_ligue1_2022.drop(columns=\"Tour\", inplace=True)\n",
    "matchs_ligue1_2022[\"but_domicile\"] = matchs_ligue1_2022[\"Score\"].str[0]\n",
    "matchs_ligue1_2022[\"but_exterieur\"] = matchs_ligue1_2022[\"Score\"].str[2]\n",
    "matchs_ligue1_2022[\"Points_domicile\"] = 0\n",
    "matchs_ligue1_2022[\"Points_exterieur\"] = 0\n",
    "matchs_ligue1_2022.loc[matchs_ligue1_2022[\"but_domicile\"]>matchs_ligue1_2022[\"but_exterieur\"],\"Points_domicile\"] =3 \n",
    "matchs_ligue1_2022.loc[matchs_ligue1_2022[\"but_domicile\"]<matchs_ligue1_2022[\"but_exterieur\"],\"Points_exterieur\"] =3\n",
    "matchs_ligue1_2022.loc[matchs_ligue1_2022[\"but_domicile\"]==matchs_ligue1_2022[\"but_exterieur\"],[\"Points_domicile\",\"Points_exterieur\"]] =1\n",
    "stat_2022=[]\n",
    "stat_2022.append(data_stat_equipe_2022[[\"Équipe\", \"MJ\", \"BM\", \"BE\", \"Pts\"]])\n",
    "stat_2022[0][['MJ','BM', 'BE', 'Pts',\"Domicile\"]] = 0\n",
    "for k in range(37):\n",
    "    stat_2022.append(stat_2022[k].copy())\n",
    "    stat_2022[k+1].loc[:, 'MJ'] += 1\n",
    "    for i in range(len(stat_2022[k+1])):\n",
    "        donnee_match = matchs_ligue1_2022.loc[(matchs_ligue1_2022[\"Sem.\"]==k+1) & ((matchs_ligue1_2022[\"Domicile\"]==stat_2022[k+1].loc[i, 'Équipe'])| (matchs_ligue1_2022[\"Extérieur\"]==stat_2022[k+1].loc[i, 'Équipe']))] \n",
    "        if donnee_match.iloc[0,4]==stat_2022[k+1].loc[i,'Équipe']:\n",
    "            domicile = 1\n",
    "        else:\n",
    "            domicile = 0\n",
    "        stat_2022[k].loc[i,'Domicile'] = domicile\n",
    "        stat_2022[k].loc[i,\"date\"] = donnee_match.iloc[0,2]\n",
    "        if type(donnee_match.iloc[0,14]) != str:\n",
    "            continue\n",
    "        donnee_match.iloc[0,14] = int(donnee_match.iloc[0,14])\n",
    "        donnee_match.iloc[0,15] = int(donnee_match.iloc[0,15])\n",
    "        donnee_match.iloc[0,16] = int(donnee_match.iloc[0,16])\n",
    "        donnee_match.iloc[0,17] = int(donnee_match.iloc[0,17])\n",
    "        if domicile:\n",
    "            stat_2022[k+1].loc[i,\"Pts\"] =(k*stat_2022[k+1].loc[i,\"Pts\"] + donnee_match.iloc[0,16])/(k+1)\n",
    "            stat_2022[k+1].loc[i,\"BM\"] = (k*stat_2022[k+1].loc[i,\"BM\"] + donnee_match.iloc[0,14])/ (k+1)\n",
    "            stat_2022[k+1].loc[i,\"BE\"] = (k*stat_2022[k+1].loc[i,\"BE\"] + donnee_match.iloc[0,15])/ (k+1)\n",
    "        else:\n",
    "            stat_2022[k+1].loc[i,\"Pts\"] =(k*stat_2022[k+1].loc[i,\"Pts\"] + donnee_match.iloc[0,17])/(k+1)\n",
    "            stat_2022[k+1].loc[i,\"BM\"] = (k*stat_2022[k+1].loc[i,\"BM\"] + donnee_match.iloc[0,15])/ (k+1)\n",
    "            stat_2022[k+1].loc[i,\"BE\"] = (k*stat_2022[k+1].loc[i,\"BE\"] + donnee_match.iloc[0,14])/ (k+1)\n",
    "    stat_2022[k+1].sort_values(by=['Pts'], ascending=False, inplace=True)\n",
    "    stat_2022[k+1].reset_index(drop=True, inplace=True)\n",
    "stats_2022 = pd.concat(stat_2022)"
   ]
  },
  {
   "attachments": {},
   "cell_type": "markdown",
   "metadata": {},
   "source": [
    "Année 2021"
   ]
  },
  {
   "cell_type": "code",
   "execution_count": 559,
   "metadata": {},
   "outputs": [],
   "source": [
    "#Clean année 2021\n",
    "# On copie les données pour ne pas modifier les données d'origine\n",
    "matchs_ligue1_2021 = data_matchs_ligue1_2021.copy()\n",
    "matchs_ligue1_2021 = matchs_ligue1_2021[matchs_ligue1_2021[\"Tour\"] != \"Barrage 1/2 Relégation/Promotion France\"]\n",
    "matchs_ligue1_2021.drop(columns=\"Tour\", inplace=True)\n",
    "matchs_ligue1_2021[\"but_domicile\"] = matchs_ligue1_2021[\"Score\"].str[0]\n",
    "matchs_ligue1_2021[\"but_exterieur\"] = matchs_ligue1_2021[\"Score\"].str[2]\n",
    "matchs_ligue1_2021[\"Points_domicile\"] = 0\n",
    "matchs_ligue1_2021[\"Points_exterieur\"] = 0\n",
    "matchs_ligue1_2021.loc[matchs_ligue1_2021[\"but_domicile\"]>matchs_ligue1_2021[\"but_exterieur\"],\"Points_domicile\"] =3 \n",
    "matchs_ligue1_2021.loc[matchs_ligue1_2021[\"but_domicile\"]<matchs_ligue1_2021[\"but_exterieur\"],\"Points_exterieur\"] =3\n",
    "matchs_ligue1_2021.loc[matchs_ligue1_2021[\"but_domicile\"]==matchs_ligue1_2021[\"but_exterieur\"],[\"Points_domicile\",\"Points_exterieur\"]] =1\n",
    "\n",
    "stat_2021=[]\n",
    "stat_2021.append(data_stat_equipe_2021[[\"Équipe\", \"MJ\", \"BM\", \"BE\", \"Pts\"]])\n",
    "stat_2021[0][['MJ','BM', 'BE', 'Pts',\"Domicile\"]] = 0\n",
    "for k in range(37):\n",
    "    stat_2021.append(stat_2021[k].copy())\n",
    "    stat_2021[k+1].loc[:, 'MJ'] += 1\n",
    "    for i in range(len(stat_2021[k+1])):\n",
    "        donnee_match = matchs_ligue1_2021.loc[(matchs_ligue1_2021[\"Sem.\"]==k+1) & ((matchs_ligue1_2021[\"Domicile\"]==stat_2021[k+1].loc[i, 'Équipe'])| (matchs_ligue1_2021[\"Extérieur\"]==stat_2021[k+1].loc[i, 'Équipe']))] \n",
    "        if donnee_match.iloc[0,4]==stat_2021[k+1].loc[i, 'Équipe']:\n",
    "            domicile = 1\n",
    "        else:\n",
    "            domicile = 0\n",
    "        stat_2021[k].loc[i,'Domicile'] = domicile\n",
    "        stat_2021[k].loc[i,\"date\"] = donnee_match.iloc[0,2]\n",
    "        if type(donnee_match.iloc[0,14]) != str:\n",
    "            continue\n",
    "        donnee_match.iloc[0,14] = int(donnee_match.iloc[0,14])\n",
    "        donnee_match.iloc[0,15] = int(donnee_match.iloc[0,15])\n",
    "        donnee_match.iloc[0,16] = int(donnee_match.iloc[0,16])\n",
    "        donnee_match.iloc[0,17] = int(donnee_match.iloc[0,17])\n",
    "        if domicile:\n",
    "            stat_2021[k+1].loc[i,\"Pts\"] =(k*stat_2021[k+1].loc[i,\"Pts\"] + donnee_match.iloc[0,16])/(k+1)\n",
    "            stat_2021[k+1].loc[i,\"BM\"] = (k*stat_2021[k+1].loc[i,\"BM\"] + donnee_match.iloc[0,14])/ (k+1)\n",
    "            stat_2021[k+1].loc[i,\"BE\"] = (k*stat_2021[k+1].loc[i,\"BE\"] + donnee_match.iloc[0,15])/ (k+1)\n",
    "        else:\n",
    "            stat_2021[k+1].loc[i,\"Pts\"] =(k*stat_2021[k+1].loc[i,\"Pts\"] + donnee_match.iloc[0,17])/(k+1)\n",
    "            stat_2021[k+1].loc[i,\"BM\"] = (k*stat_2021[k+1].loc[i,\"BM\"] + donnee_match.iloc[0,15])/ (k+1)\n",
    "            stat_2021[k+1].loc[i,\"BE\"] = (k*stat_2021[k+1].loc[i,\"BE\"] + donnee_match.iloc[0,14])/ (k+1)\n",
    "        stat_2021[k+1].sort_values(by=['Pts'], ascending=False, inplace=True)\n",
    "        stat_2021[k+1].reset_index(drop=True, inplace=True)\n",
    "stats_2021 = pd.concat(stat_2021)"
   ]
  },
  {
   "attachments": {},
   "cell_type": "markdown",
   "metadata": {},
   "source": [
    "Année 2020"
   ]
  },
  {
   "cell_type": "code",
   "execution_count": 560,
   "metadata": {},
   "outputs": [],
   "source": [
    "#Clean année 2020\n",
    "# On copie les données pour ne pas modifier les données d'origine\n",
    "matchs_ligue1_2020 = data_matchs_ligue1_2020.copy()\n",
    "matchs_ligue1_2020[\"but_domicile\"] = matchs_ligue1_2020[\"Score\"].str[0]\n",
    "matchs_ligue1_2020[\"but_exterieur\"] = matchs_ligue1_2020[\"Score\"].str[2]\n",
    "matchs_ligue1_2020[\"Points_domicile\"] = 0\n",
    "matchs_ligue1_2020[\"Points_exterieur\"] = 0\n",
    "matchs_ligue1_2020.loc[matchs_ligue1_2020[\"but_domicile\"]>matchs_ligue1_2020[\"but_exterieur\"],\"Points_domicile\"] =3 \n",
    "matchs_ligue1_2020.loc[matchs_ligue1_2020[\"but_domicile\"]<matchs_ligue1_2020[\"but_exterieur\"],\"Points_exterieur\"] =3\n",
    "matchs_ligue1_2020.loc[matchs_ligue1_2020[\"but_domicile\"]==matchs_ligue1_2020[\"but_exterieur\"],[\"Points_domicile\",\"Points_exterieur\"]] =1\n",
    "\n",
    "stat_2020=[]\n",
    "stat_2020.append(data_stat_equipe_2020[[\"Équipe\", \"MJ\", \"BM\", \"BE\", \"Pts\"]])\n",
    "stat_2020[0][['MJ','BM', 'BE', 'Pts',\"Domicile\"]] = 0\n",
    "for k in range(38):\n",
    "    stat_2020.append(stat_2020[k].copy())\n",
    "    stat_2020[k+1].loc[:, 'MJ'] += 1\n",
    "    for i in range(len(stat_2020[k+1])):\n",
    "        donnee_match = matchs_ligue1_2020.loc[(matchs_ligue1_2020[\"Sem.\"]==k+1) & ((matchs_ligue1_2020[\"Domicile\"]==stat_2020[k+1].loc[i, 'Équipe'])| (matchs_ligue1_2020[\"Extérieur\"]==stat_2020[k+1].loc[i, 'Équipe']))] \n",
    "        if donnee_match.iloc[0,4]==stat_2020[k+1].loc[i, 'Équipe']:\n",
    "            domicile = 1\n",
    "        else:\n",
    "            domicile = 0\n",
    "        stat_2020[k].loc[i,'Domicile'] = domicile\n",
    "        stat_2020[k].loc[i,\"date\"] = donnee_match.iloc[0,2]\n",
    "        if type(donnee_match.iloc[0,14]) != str:\n",
    "            continue\n",
    "        donnee_match.iloc[0,14] = int(donnee_match.iloc[0,14])\n",
    "        donnee_match.iloc[0,15] = int(donnee_match.iloc[0,15])\n",
    "        donnee_match.iloc[0,16] = int(donnee_match.iloc[0,16])\n",
    "        donnee_match.iloc[0,17] = int(donnee_match.iloc[0,17])\n",
    "        if domicile:\n",
    "            stat_2020[k+1].loc[i,\"Pts\"] =(k*stat_2020[k+1].loc[i,\"Pts\"] + donnee_match.iloc[0,16])/(k+1)\n",
    "            stat_2020[k+1].loc[i,\"BM\"] = (k*stat_2020[k+1].loc[i,\"BM\"] + donnee_match.iloc[0,14])/ (k+1)\n",
    "            stat_2020[k+1].loc[i,\"BE\"] = (k*stat_2020[k+1].loc[i,\"BE\"] + donnee_match.iloc[0,15])/ (k+1)\n",
    "        else:\n",
    "            stat_2020[k+1].loc[i,\"Pts\"] =(k*stat_2020[k+1].loc[i,\"Pts\"] + donnee_match.iloc[0,17])/(k+1)\n",
    "            stat_2020[k+1].loc[i,\"BM\"] = (k*stat_2020[k+1].loc[i,\"BM\"] + donnee_match.iloc[0,15])/ (k+1)\n",
    "            stat_2020[k+1].loc[i,\"BE\"] = (k*stat_2020[k+1].loc[i,\"BE\"] + donnee_match.iloc[0,14])/ (k+1)\n",
    "        stat_2020[k+1].sort_values(by=['Pts'], ascending=False, inplace=True)\n",
    "        stat_2020[k+1].reset_index(drop=True, inplace=True)\n",
    "stats_2020 = pd.concat(stat_2020)"
   ]
  },
  {
   "attachments": {},
   "cell_type": "markdown",
   "metadata": {},
   "source": [
    "Année 2019"
   ]
  },
  {
   "cell_type": "code",
   "execution_count": 561,
   "metadata": {},
   "outputs": [],
   "source": [
    "#Clean année 2019\n",
    "# On copie les données pour ne pas modifier les données d'origine\n",
    "matchs_ligue1_2019 = data_matchs_ligue1_2019.copy()\n",
    "matchs_ligue1_2019 = matchs_ligue1_2019[matchs_ligue1_2019[\"Tour\"] != \"Barrage 1/2 Relégation/Promotion France\"]\n",
    "matchs_ligue1_2019.drop(columns=\"Tour\", inplace=True)\n",
    "matchs_ligue1_2019[\"but_domicile\"] = matchs_ligue1_2019[\"Score\"].str[0]\n",
    "matchs_ligue1_2019[\"but_exterieur\"] = matchs_ligue1_2019[\"Score\"].str[2]\n",
    "matchs_ligue1_2019[\"Points_domicile\"] = 0\n",
    "matchs_ligue1_2019[\"Points_exterieur\"] = 0\n",
    "matchs_ligue1_2019.loc[matchs_ligue1_2019[\"but_domicile\"]>matchs_ligue1_2019[\"but_exterieur\"],\"Points_domicile\"] =3 \n",
    "matchs_ligue1_2019.loc[matchs_ligue1_2019[\"but_domicile\"]<matchs_ligue1_2019[\"but_exterieur\"],\"Points_exterieur\"] =3\n",
    "matchs_ligue1_2019.loc[matchs_ligue1_2019[\"but_domicile\"]==matchs_ligue1_2019[\"but_exterieur\"],[\"Points_domicile\",\"Points_exterieur\"]] =1\n",
    "\n",
    "stat_2019=[]\n",
    "stat_2019.append(data_stat_equipe_2019[[\"Équipe\", \"MJ\", \"BM\", \"BE\", \"Pts\"]])\n",
    "stat_2019[0][['MJ','BM', 'BE', 'Pts',\"Domicile\"]] = 0\n",
    "for k in range(38):\n",
    "    stat_2019.append(stat_2019[k].copy())\n",
    "    stat_2019[k+1].loc[:, 'MJ'] += 1\n",
    "    for i in range(len(stat_2019[k+1])):\n",
    "        donnee_match = matchs_ligue1_2019.loc[(matchs_ligue1_2019[\"Sem.\"]==k+1) & ((matchs_ligue1_2019[\"Domicile\"]==stat_2019[k+1].loc[i, 'Équipe'])| (matchs_ligue1_2019[\"Extérieur\"]==stat_2019[k+1].loc[i, 'Équipe']))] \n",
    "        if donnee_match.iloc[0,4]==stat_2019[k+1].loc[i, 'Équipe']:\n",
    "            domicile = 1\n",
    "        else:\n",
    "            domicile = 0\n",
    "        stat_2019[k].loc[i,'Domicile'] = domicile\n",
    "        stat_2019[k].loc[i,\"date\"] = donnee_match.iloc[0,2]\n",
    "        if type(donnee_match.iloc[0,14]) != str:\n",
    "            continue\n",
    "        donnee_match.iloc[0,14] = int(donnee_match.iloc[0,14])\n",
    "        donnee_match.iloc[0,15] = int(donnee_match.iloc[0,15])\n",
    "        donnee_match.iloc[0,16] = int(donnee_match.iloc[0,16])\n",
    "        donnee_match.iloc[0,17] = int(donnee_match.iloc[0,17])\n",
    "        if domicile:\n",
    "            stat_2019[k+1].loc[i,\"Pts\"] =(k*stat_2019[k+1].loc[i,\"Pts\"] + donnee_match.iloc[0,16])/(k+1)\n",
    "            stat_2019[k+1].loc[i,\"BM\"] = (k*stat_2019[k+1].loc[i,\"BM\"] + donnee_match.iloc[0,14])/ (k+1)\n",
    "            stat_2019[k+1].loc[i,\"BE\"] = (k*stat_2019[k+1].loc[i,\"BE\"] + donnee_match.iloc[0,15])/ (k+1)\n",
    "        else:\n",
    "            stat_2019[k+1].loc[i,\"Pts\"] =(k*stat_2019[k+1].loc[i,\"Pts\"] + donnee_match.iloc[0,17])/(k+1)\n",
    "            stat_2019[k+1].loc[i,\"BM\"] = (k*stat_2019[k+1].loc[i,\"BM\"] + donnee_match.iloc[0,15])/ (k+1)\n",
    "            stat_2019[k+1].loc[i,\"BE\"] = (k*stat_2019[k+1].loc[i,\"BE\"] + donnee_match.iloc[0,14])/ (k+1)\n",
    "        stat_2019[k+1].sort_values(by=['Pts'], ascending=False, inplace=True)\n",
    "        stat_2019[k+1].reset_index(drop=True, inplace=True)\n",
    "stats_2019 = pd.concat(stat_2019)"
   ]
  },
  {
   "attachments": {},
   "cell_type": "markdown",
   "metadata": {},
   "source": [
    "Concatener toute les données"
   ]
  },
  {
   "cell_type": "code",
   "execution_count": 562,
   "metadata": {},
   "outputs": [],
   "source": [
    "# On concatène les stats de chaque année\n",
    "stats = pd.concat([stats_2019, stats_2020, stats_2021, stats_2022,stats_2023])\n",
    "# On convertit la date en datetime\n",
    "stats[\"date\"]= pd.to_datetime(stats[\"date\"])"
   ]
  },
  {
   "attachments": {},
   "cell_type": "markdown",
   "metadata": {},
   "source": [
    "Nettoyer les données des matchs"
   ]
  },
  {
   "cell_type": "code",
   "execution_count": 575,
   "metadata": {},
   "outputs": [],
   "source": [
    "# Enlever les colonnes inutiles\n",
    "matchs_ligue1 = matchs_ligue1[matchs_ligue1[\"Tour\"] != \"Barrage 1/2 Relégation/Promotion France\"]\n",
    "matchs_trier= matchs_ligue1[[\"Date\",\"Domicile\",\"Score\",\"Extérieur\",\"Sem.\"]]\n",
    "# Enlever les lignes inutiles\n",
    "matchs_trier = matchs_trier[matchs_trier[\"Date\"].notna()]\n",
    "# Mettre les dates au bon format\n",
    "matchs_trier[\"Date\"] = pd.to_datetime(matchs_trier[\"Date\"])\n",
    "# Garder les matchs joués\n",
    "matchs_joue = matchs_trier.dropna(subset=[\"Score\"])\n",
    "# Remettre les index à 0\n",
    "matchs_joue.reset_index(drop=True, inplace=True)\n",
    "# Ajouter les colonnes but_domicile et but_exterieur\n",
    "matchs_joue[\"but_domicile\"] = matchs_joue[\"Score\"].str[0]\n",
    "matchs_joue[\"but_exterieur\"] = matchs_joue[\"Score\"].str[2]\n",
    "# garder les matchs à jouer\n",
    "matchs_a_jouer = matchs_trier[matchs_trier[\"Score\"].isna()]\n",
    "# Mettres les buts en type int\n",
    "matchs_joue[\"but_domicile\"] = matchs_joue[\"but_domicile\"].astype(int)\n",
    "matchs_joue[\"but_exterieur\"] = matchs_joue[\"but_exterieur\"].astype(int)\n",
    "\n",
    "#Ajouter les colonnes resultat_domicile et resultat_exterieur\n",
    "matchs_joue[\"resultat\"] = 0\n",
    "matchs_joue.loc[matchs_joue[\"but_domicile\"]>matchs_joue[\"but_exterieur\"],\"resultat\"] = 2\n",
    "matchs_joue.loc[matchs_joue[\"but_domicile\"] == matchs_joue[\"but_exterieur\"],\"resultat\"] = 1\n",
    "matchs_joue.loc[matchs_joue[\"but_domicile\"]<matchs_joue[\"but_exterieur\"],\"resultat\"] = 0\n",
    "# Diviser la date en jour, mois et année\n",
    "matchs_joue[\"jour\"] = matchs_joue[\"Date\"].dt.day\n",
    "matchs_joue[\"mois\"] = matchs_joue[\"Date\"].dt.month\n",
    "matchs_joue[\"annee\"] = matchs_joue[\"Date\"].dt.year\n",
    "# Diviser la date en jour, mois et année pour les matchs à jouer\n",
    "matchs_a_jouer[\"jour\"] = matchs_a_jouer[\"Date\"].dt.day\n",
    "matchs_a_jouer[\"mois\"] = matchs_a_jouer[\"Date\"].dt.month\n",
    "matchs_a_jouer[\"annee\"] = matchs_a_jouer[\"Date\"].dt.year\n",
    "# Enlever les matchs covid\n",
    "matchs_a_jouer = matchs_a_jouer.loc[matchs_a_jouer[\"annee\"] == 2023]"
   ]
  },
  {
   "attachments": {},
   "cell_type": "markdown",
   "metadata": {},
   "source": [
    "Lier les données"
   ]
  },
  {
   "cell_type": "code",
   "execution_count": 577,
   "metadata": {},
   "outputs": [
    {
     "data": {
      "text/plain": [
       "Date               0\n",
       "Domicile_x         0\n",
       "Score              0\n",
       "Extérieur          0\n",
       "Sem.               2\n",
       "but_domicile       0\n",
       "but_exterieur      0\n",
       "resultat           0\n",
       "jour               0\n",
       "mois               0\n",
       "annee              0\n",
       "Équipe_x         209\n",
       "MJ_x             209\n",
       "BM_x             209\n",
       "BE_x             209\n",
       "Pts_x            209\n",
       "Domicile_y       209\n",
       "date_x           209\n",
       "Équipe_y         207\n",
       "MJ_y             207\n",
       "BM_y             207\n",
       "BE_y             207\n",
       "Pts_y            207\n",
       "Domicile         207\n",
       "date_y           207\n",
       "dtype: int64"
      ]
     },
     "execution_count": 577,
     "metadata": {},
     "output_type": "execute_result"
    }
   ],
   "source": [
    "# On ajoute les stats des équipes à chaque match\n",
    "merge1 = pd.merge(matchs_joue, stats,  how='left', left_on=[\"Domicile\",\"Date\"], right_on = [\"Équipe\",\"date\"])\n",
    "merge2 = pd.merge(merge1, stats,  how='left', left_on=[\"Extérieur\",\"Date\"], right_on = [\"Équipe\",\"date\",])\n",
    "merge2.isna().sum()"
   ]
  },
  {
   "attachments": {},
   "cell_type": "markdown",
   "metadata": {},
   "source": [
    "Trie des données utiles"
   ]
  },
  {
   "cell_type": "code",
   "execution_count": 578,
   "metadata": {},
   "outputs": [],
   "source": [
    "# On enlève les colonnes inutiles\n",
    "merge2 = merge2[['Sem.', 'but_domicile',\"but_exterieur\",\"jour\",\"mois\",\"annee\",\"Pts_x\",\"BM_x\",\"BE_x\",\"Pts_y\",\"BM_y\",\"BE_y\",\"resultat\"]]\n",
    "matchs_joue_dom_ext = merge2.rename(columns={\"Pts_x\": \"Pts_dom\", \"BM_x\": \"BM_dom\", \"BE_x\": \"BE_dom\",\"Pts_y\": \"Pts_ext\", \"BM_y\": \"BM_ext\", \"BE_y\": \"BE_ext\"})"
   ]
  },
  {
   "attachments": {},
   "cell_type": "markdown",
   "metadata": {},
   "source": [
    "Créer les données de test et d'entrainement"
   ]
  },
  {
   "cell_type": "code",
   "execution_count": 579,
   "metadata": {},
   "outputs": [
    {
     "data": {
      "text/plain": [
       "Sem.             0\n",
       "but_domicile     0\n",
       "but_exterieur    0\n",
       "jour             0\n",
       "mois             0\n",
       "annee            0\n",
       "Pts_dom          0\n",
       "BM_dom           0\n",
       "BE_dom           0\n",
       "Pts_ext          0\n",
       "BM_ext           0\n",
       "BE_ext           0\n",
       "resultat         0\n",
       "dtype: int64"
      ]
     },
     "execution_count": 579,
     "metadata": {},
     "output_type": "execute_result"
    }
   ],
   "source": [
    "# On enlève les lignes avec des valeurs manquantes\n",
    "matchs_joue_dom_ext = matchs_joue_dom_ext.dropna(axis=0)\n",
    "matchs_joue_dom_ext.isna().sum()"
   ]
  },
  {
   "attachments": {},
   "cell_type": "markdown",
   "metadata": {},
   "source": [
    "On sépare les données pour créer les modèles"
   ]
  },
  {
   "cell_type": "code",
   "execution_count": 580,
   "metadata": {},
   "outputs": [],
   "source": [
    "# On sépare les données en train et test\n",
    "X = matchs_joue_dom_ext[['Sem.',\"Pts_dom\",\"BM_dom\",\"BE_dom\",\"Pts_ext\",\"BM_ext\",\"BE_ext\"]]\n",
    "y = matchs_joue_dom_ext['resultat']\n",
    "X_train, X_test, y_train, y_test = train_test_split(X, y, test_size=0.3, random_state=42)"
   ]
  },
  {
   "attachments": {},
   "cell_type": "markdown",
   "metadata": {},
   "source": [
    "Création du modèle décision tree"
   ]
  },
  {
   "cell_type": "code",
   "execution_count": 581,
   "metadata": {},
   "outputs": [
    {
     "name": "stdout",
     "output_type": "stream",
     "text": [
      "prediction avec les training data: 0.986228813559322\n",
      "prediction avec les test data: 0.41975308641975306\n"
     ]
    }
   ],
   "source": [
    "# Build a logistic regression model\n",
    "mode1_dt = DecisionTreeClassifier()\n",
    "mode1_dt.fit(X_train,y_train)\n",
    "# Afficher l'arbre de décision\n",
    "#print(\"décision_tree pour écart de but \\n\",export_text(mode1_dt, feature_names=list(X_train)))\n",
    "# Check the model performance with the training data\n",
    "predictions1_dt_train = mode1_dt.predict(X_train)\n",
    "print(\"prediction avec les training data:\",accuracy_score(y_train, predictions1_dt_train))\n",
    "# Check the model performance with the test data\n",
    "predictions1_dt_test = mode1_dt.predict(X_test)\n",
    "print(\"prediction avec les test data:\",accuracy_score(y_test, predictions1_dt_test))"
   ]
  },
  {
   "attachments": {},
   "cell_type": "markdown",
   "metadata": {},
   "source": [
    "Prévision des résultats decision tree"
   ]
  },
  {
   "attachments": {},
   "cell_type": "markdown",
   "metadata": {},
   "source": [
    "Modele logistic regression nombre de but"
   ]
  },
  {
   "cell_type": "code",
   "execution_count": 583,
   "metadata": {},
   "outputs": [
    {
     "name": "stdout",
     "output_type": "stream",
     "text": [
      "prediction avec les training data: 0.4798728813559322\n",
      "prediction avec les test data: 0.45925925925925926\n"
     ]
    }
   ],
   "source": [
    "# Buill a logistic regression model for the ecart de but\n",
    "mode2_lr = LogisticRegression(solver = 'liblinear', max_iter=1000, multi_class='ovr')\n",
    "mode2_lr.fit(X_train, y_train)\n",
    "# Check the model performance with the training data\n",
    "predictions2_lr_train = mode2_lr.predict(X_train)\n",
    "print(\"prediction avec les training data:\",accuracy_score(y_train, predictions2_lr_train))\n",
    "# Check the model performance with the test data\n",
    "predictions2_lr_test = mode2_lr.predict(X_test)\n",
    "print(\"prediction avec les test data:\",accuracy_score(y_test, predictions2_lr_test))"
   ]
  },
  {
   "attachments": {},
   "cell_type": "markdown",
   "metadata": {},
   "source": [
    "Prévision des résultat logistic regression\n"
   ]
  }
 ],
 "metadata": {
  "kernelspec": {
   "display_name": "myenv",
   "language": "python",
   "name": "python3"
  },
  "language_info": {
   "codemirror_mode": {
    "name": "ipython",
    "version": 3
   },
   "file_extension": ".py",
   "mimetype": "text/x-python",
   "name": "python",
   "nbconvert_exporter": "python",
   "pygments_lexer": "ipython3",
   "version": "3.10.9"
  },
  "orig_nbformat": 4
 },
 "nbformat": 4,
 "nbformat_minor": 2
}
